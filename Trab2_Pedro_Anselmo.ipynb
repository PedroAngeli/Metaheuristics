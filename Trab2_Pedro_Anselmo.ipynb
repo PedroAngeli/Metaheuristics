{
 "cells": [
  {
   "cell_type": "code",
   "execution_count": 1,
   "id": "5d161090",
   "metadata": {},
   "outputs": [],
   "source": [
    "%load_ext autoreload\n",
    "%autoreload 2\n",
    "#Utilizando autoreload para atualizar as funções dos arquivos importados localmente"
   ]
  },
  {
   "cell_type": "markdown",
   "id": "8cf8363e",
   "metadata": {},
   "source": [
    "# Treinamento dos Classificadores utilizando a base de dados Breast Cancer"
   ]
  },
  {
   "cell_type": "code",
   "execution_count": 2,
   "id": "019947ed",
   "metadata": {},
   "outputs": [],
   "source": [
    "from sklearn import datasets\n",
    "(breast_cancer_data, breast_cancer_target) = datasets.load_breast_cancer(return_X_y=True) #importando a base de dados"
   ]
  },
  {
   "cell_type": "markdown",
   "id": "008c177d",
   "metadata": {},
   "source": [
    "### Heterogeneous Pooling"
   ]
  },
  {
   "cell_type": "code",
   "execution_count": 3,
   "id": "0e2845d5",
   "metadata": {
    "scrolled": true
   },
   "outputs": [
    {
     "name": "stdout",
     "output_type": "stream",
     "text": [
      "Treinando Heterogeneous Pooling...\n",
      "Finalizado!\n",
      "Tempo de treinamento 0.23 minutos\n"
     ]
    }
   ],
   "source": [
    "from HeterogeneousPooling import *\n",
    "heterogeneousPooling = HeterogeneousPooling()\n",
    "heterogeneousPooling.fit(X = breast_cancer_data, y = breast_cancer_target)"
   ]
  },
  {
   "cell_type": "code",
   "execution_count": 4,
   "id": "f1bda813",
   "metadata": {},
   "outputs": [],
   "source": [
    "(heterogeneousPooling_mean, heterogeneousPooling_std, heterogeneousPooling_inf, heterogeneousPooling_sup) = heterogeneousPooling.results()"
   ]
  },
  {
   "cell_type": "markdown",
   "id": "91079f71",
   "metadata": {},
   "source": [
    "### Heterogeneous Pooling usando Hill Climbing"
   ]
  },
  {
   "cell_type": "code",
   "execution_count": 5,
   "id": "3264db53",
   "metadata": {
    "scrolled": false
   },
   "outputs": [
    {
     "name": "stdout",
     "output_type": "stream",
     "text": [
      "Treinando Heterogeneous Pooling...\n",
      "Finalizado!\n",
      "Tempo de treinamento 6.44 minutos\n"
     ]
    }
   ],
   "source": [
    "from HeterogeneousPooling import *\n",
    "hc = HeterogeneousPooling('hill climbing')\n",
    "hc.fit(X = breast_cancer_data, y = breast_cancer_target)"
   ]
  },
  {
   "cell_type": "code",
   "execution_count": 6,
   "id": "4f63e9cd",
   "metadata": {},
   "outputs": [],
   "source": [
    "(hillClimbing_mean, hillClimbing_std, hillClimbing_inf, hillClimbing_sup) = hc.results()"
   ]
  },
  {
   "cell_type": "markdown",
   "id": "785b3ed7",
   "metadata": {},
   "source": [
    "### Heterogeneous Pooling usando Simulated Anneling "
   ]
  },
  {
   "cell_type": "code",
   "execution_count": 7,
   "id": "2593bcf4",
   "metadata": {},
   "outputs": [
    {
     "name": "stdout",
     "output_type": "stream",
     "text": [
      "Treinando Heterogeneous Pooling...\n",
      "Finalizado!\n",
      "Tempo de treinamento 15.99 minutos\n"
     ]
    }
   ],
   "source": [
    "from HeterogeneousPooling import *\n",
    "sa = HeterogeneousPooling('simulated anneling')\n",
    "sa.fit(X = breast_cancer_data, y = breast_cancer_target)"
   ]
  },
  {
   "cell_type": "code",
   "execution_count": 8,
   "id": "6e81d778",
   "metadata": {},
   "outputs": [],
   "source": [
    "(simulatedAnneling_mean, simulatedAnneling_std, simulatedAnneling_inf, simulatedAnneling_sup) = sa.results()"
   ]
  },
  {
   "cell_type": "markdown",
   "id": "30ddd2fe",
   "metadata": {},
   "source": [
    "### Heterogeneous Pooling usando Genetic Algorithm"
   ]
  },
  {
   "cell_type": "code",
   "execution_count": 9,
   "id": "16c2ac0f",
   "metadata": {},
   "outputs": [
    {
     "name": "stdout",
     "output_type": "stream",
     "text": [
      "Treinando Heterogeneous Pooling...\n",
      "Finalizado!\n",
      "Tempo de treinamento 40.50 minutos\n"
     ]
    }
   ],
   "source": [
    "from HeterogeneousPooling import *\n",
    "gn = HeterogeneousPooling('genetic')\n",
    "gn.fit(X = breast_cancer_data, y = breast_cancer_target)"
   ]
  },
  {
   "cell_type": "code",
   "execution_count": 10,
   "id": "d31539d1",
   "metadata": {},
   "outputs": [],
   "source": [
    "(genetic_mean, genetic_std, genetic_inf, genetic_sup) = gn.results()"
   ]
  },
  {
   "cell_type": "markdown",
   "id": "8faa2c2e",
   "metadata": {},
   "source": [
    "### Tabela com resultados"
   ]
  },
  {
   "cell_type": "code",
   "execution_count": 11,
   "id": "d45b960f",
   "metadata": {},
   "outputs": [
    {
     "data": {
      "text/html": [
       "<div>\n",
       "<style scoped>\n",
       "    .dataframe tbody tr th:only-of-type {\n",
       "        vertical-align: middle;\n",
       "    }\n",
       "\n",
       "    .dataframe tbody tr th {\n",
       "        vertical-align: top;\n",
       "    }\n",
       "\n",
       "    .dataframe thead th {\n",
       "        text-align: right;\n",
       "    }\n",
       "</style>\n",
       "<table border=\"1\" class=\"dataframe\">\n",
       "  <thead>\n",
       "    <tr style=\"text-align: right;\">\n",
       "      <th></th>\n",
       "      <th>Média</th>\n",
       "      <th>Desvio Padrão</th>\n",
       "      <th>Limite Inferior</th>\n",
       "      <th>Limite Superior</th>\n",
       "    </tr>\n",
       "  </thead>\n",
       "  <tbody>\n",
       "    <tr>\n",
       "      <th>HeterogeneousPooling</th>\n",
       "      <td>0.953122</td>\n",
       "      <td>0.021452</td>\n",
       "      <td>0.945446</td>\n",
       "      <td>0.960799</td>\n",
       "    </tr>\n",
       "    <tr>\n",
       "      <th>HillClimbing</th>\n",
       "      <td>0.941437</td>\n",
       "      <td>0.027274</td>\n",
       "      <td>0.931677</td>\n",
       "      <td>0.951197</td>\n",
       "    </tr>\n",
       "    <tr>\n",
       "      <th>SimulatedAnneling</th>\n",
       "      <td>0.952569</td>\n",
       "      <td>0.024018</td>\n",
       "      <td>0.943974</td>\n",
       "      <td>0.961163</td>\n",
       "    </tr>\n",
       "    <tr>\n",
       "      <th>Genetic</th>\n",
       "      <td>0.954898</td>\n",
       "      <td>0.022038</td>\n",
       "      <td>0.947012</td>\n",
       "      <td>0.962784</td>\n",
       "    </tr>\n",
       "  </tbody>\n",
       "</table>\n",
       "</div>"
      ],
      "text/plain": [
       "                         Média  Desvio Padrão  Limite Inferior  \\\n",
       "HeterogeneousPooling  0.953122       0.021452         0.945446   \n",
       "HillClimbing          0.941437       0.027274         0.931677   \n",
       "SimulatedAnneling     0.952569       0.024018         0.943974   \n",
       "Genetic               0.954898       0.022038         0.947012   \n",
       "\n",
       "                      Limite Superior  \n",
       "HeterogeneousPooling         0.960799  \n",
       "HillClimbing                 0.951197  \n",
       "SimulatedAnneling            0.961163  \n",
       "Genetic                      0.962784  "
      ]
     },
     "execution_count": 11,
     "metadata": {},
     "output_type": "execute_result"
    }
   ],
   "source": [
    "import pandas as pd\n",
    "\n",
    "breast_cancer_table = pd.DataFrame(data={'Média':[heterogeneousPooling_mean, hillClimbing_mean, simulatedAnneling_mean, genetic_mean],\n",
    "                                  'Desvio Padrão':[heterogeneousPooling_std, hillClimbing_std, simulatedAnneling_std, genetic_std],\n",
    "                                  'Limite Inferior':[heterogeneousPooling_inf, hillClimbing_inf, simulatedAnneling_inf, genetic_inf],\n",
    "                                  'Limite Superior':[heterogeneousPooling_sup, hillClimbing_sup, simulatedAnneling_sup, genetic_sup]},\n",
    "                            index=['HeterogeneousPooling', 'HillClimbing', 'SimulatedAnneling', 'Genetic'])\n",
    "breast_cancer_table"
   ]
  },
  {
   "cell_type": "markdown",
   "id": "9455111f",
   "metadata": {},
   "source": [
    "### Boxplot com resultados"
   ]
  },
  {
   "cell_type": "code",
   "execution_count": 12,
   "id": "5791e2d9",
   "metadata": {},
   "outputs": [
    {
     "data": {
      "text/plain": [
       "<seaborn.axisgrid.FacetGrid at 0x7efd9aea8280>"
      ]
     },
     "execution_count": 12,
     "metadata": {},
     "output_type": "execute_result"
    },
    {
     "data": {
      "image/png": "[encoded data removed]",
      "text/plain": [
       "<Figure size 691.2x576 with 1 Axes>"
      ]
     },
     "metadata": {
      "needs_background": "light"
     },
     "output_type": "display_data"
    }
   ],
   "source": [
    "import seaborn as sns\n",
    "import pandas as pd\n",
    "\n",
    "scores = pd.DataFrame(data={'Heterogeneous Pooling': heterogeneousPooling.getScores(),\n",
    "                            'HillClimbing': hc.getScores(),\n",
    "                            'Simulated Anneling': sa.getScores(),\n",
    "                            'Genetic': gn.getScores()})\n",
    "ax = sns.catplot(data=scores, kind=\"box\", height=8, aspect=1.2)\n",
    "ax.set(ylabel='Acurácia')"
   ]
  },
  {
   "cell_type": "markdown",
   "id": "6647d1a2",
   "metadata": {},
   "source": [
    "### Testes de hipótese"
   ]
  },
  {
   "cell_type": "code",
   "execution_count": 13,
   "id": "e51b528c",
   "metadata": {},
   "outputs": [
    {
     "data": {
      "text/html": [
       "<style  type=\"text/css\" >\n",
       "#T_b22b3_row0_col1,#T_b22b3_row1_col0,#T_b22b3_row1_col2,#T_b22b3_row1_col3,#T_b22b3_row2_col1,#T_b22b3_row3_col1{\n",
       "            font-weight:  bold;\n",
       "        }</style><table id=\"T_b22b3_\" ><thead>    <tr>        <th class=\"col_heading level0 col0\" >0</th>        <th class=\"col_heading level0 col1\" >1</th>        <th class=\"col_heading level0 col2\" >2</th>        <th class=\"col_heading level0 col3\" >3</th>    </tr></thead><tbody>\n",
       "                <tr>\n",
       "                                <td id=\"T_b22b3_row0_col0\" class=\"data row0 col0\" >Heterogeneous</td>\n",
       "                        <td id=\"T_b22b3_row0_col1\" class=\"data row0 col1\" >0.043721</td>\n",
       "                        <td id=\"T_b22b3_row0_col2\" class=\"data row0 col2\" >0.895325</td>\n",
       "                        <td id=\"T_b22b3_row0_col3\" class=\"data row0 col3\" >0.594607</td>\n",
       "            </tr>\n",
       "            <tr>\n",
       "                                <td id=\"T_b22b3_row1_col0\" class=\"data row1 col0\" >0.044368</td>\n",
       "                        <td id=\"T_b22b3_row1_col1\" class=\"data row1 col1\" >HillClimbing</td>\n",
       "                        <td id=\"T_b22b3_row1_col2\" class=\"data row1 col2\" >0.013817</td>\n",
       "                        <td id=\"T_b22b3_row1_col3\" class=\"data row1 col3\" >0.015472</td>\n",
       "            </tr>\n",
       "            <tr>\n",
       "                                <td id=\"T_b22b3_row2_col0\" class=\"data row2 col0\" >0.684593</td>\n",
       "                        <td id=\"T_b22b3_row2_col1\" class=\"data row2 col1\" >0.010042</td>\n",
       "                        <td id=\"T_b22b3_row2_col2\" class=\"data row2 col2\" >SimulatedAnneling</td>\n",
       "                        <td id=\"T_b22b3_row2_col3\" class=\"data row2 col3\" >0.504165</td>\n",
       "            </tr>\n",
       "            <tr>\n",
       "                                <td id=\"T_b22b3_row3_col0\" class=\"data row3 col0\" >0.919035</td>\n",
       "                        <td id=\"T_b22b3_row3_col1\" class=\"data row3 col1\" >0.018351</td>\n",
       "                        <td id=\"T_b22b3_row3_col2\" class=\"data row3 col2\" >0.984840</td>\n",
       "                        <td id=\"T_b22b3_row3_col3\" class=\"data row3 col3\" >Genetic</td>\n",
       "            </tr>\n",
       "    </tbody></table>"
      ],
      "text/plain": [
       "<pandas.io.formats.style.Styler at 0x7efd98744730>"
      ]
     },
     "execution_count": 13,
     "metadata": {},
     "output_type": "execute_result"
    }
   ],
   "source": [
    "from scipy.stats import ttest_rel, wilcoxon\n",
    "import pandas as pd\n",
    "\n",
    "labels = ['Heterogeneous', 'HillClimbing', 'SimulatedAnneling', 'Genetic']\n",
    "models = [heterogeneousPooling.getScores(), hc.getScores(), sa.getScores(), gn.getScores()]\n",
    "p_table = pd.DataFrame(index=range(4),columns=range(4))\n",
    "\n",
    "for i in range(4):\n",
    "    for j in range(4):\n",
    "        if i == j:\n",
    "            p_table.loc[i, j] = labels[i]\n",
    "        elif j > i:\n",
    "            _, p = ttest_rel(models[i], models[j])\n",
    "            p_table.loc[i, j] = p\n",
    "        else:\n",
    "            _, p = wilcoxon(models[i], models[j])\n",
    "            p_table.loc[i, j] = p\n",
    "            \n",
    "p_table.style.applymap(lambda v: '' if type(v) == str or v >= 0.05 else 'font-weight: bold').hide_index()"
   ]
  },
  {
   "cell_type": "markdown",
   "id": "af9b6785",
   "metadata": {},
   "source": [
    "# Treinamento dos Classificadores utilizando a base de dados Digits"
   ]
  },
  {
   "cell_type": "code",
   "execution_count": 14,
   "id": "98c6c725",
   "metadata": {},
   "outputs": [],
   "source": [
    "from sklearn import datasets\n",
    "(digits_data, digits_target) = datasets.load_digits(return_X_y=True) #importando a base de dados"
   ]
  },
  {
   "cell_type": "markdown",
   "id": "44290b0a",
   "metadata": {},
   "source": [
    "### Heterogeneous Pooling"
   ]
  },
  {
   "cell_type": "code",
   "execution_count": 15,
   "id": "94693432",
   "metadata": {},
   "outputs": [
    {
     "name": "stdout",
     "output_type": "stream",
     "text": [
      "Treinando Heterogeneous Pooling...\n",
      "Finalizado!\n",
      "Tempo de treinamento 0.61 minutos\n"
     ]
    }
   ],
   "source": [
    "from HeterogeneousPooling import *\n",
    "heterogeneousPooling = HeterogeneousPooling()\n",
    "heterogeneousPooling.fit(X = digits_data, y = digits_target)"
   ]
  },
  {
   "cell_type": "code",
   "execution_count": 16,
   "id": "c4f131c2",
   "metadata": {},
   "outputs": [],
   "source": [
    "(heterogeneousPooling_mean, heterogeneousPooling_std, heterogeneousPooling_inf, heterogeneousPooling_sup) = heterogeneousPooling.results()"
   ]
  },
  {
   "cell_type": "markdown",
   "id": "a30f9fbb",
   "metadata": {},
   "source": [
    "### Heterogeneous Pooling usando Hill Climbing"
   ]
  },
  {
   "cell_type": "code",
   "execution_count": 17,
   "id": "cf545f9d",
   "metadata": {},
   "outputs": [
    {
     "name": "stdout",
     "output_type": "stream",
     "text": [
      "Treinando Heterogeneous Pooling...\n",
      "Finalizado!\n",
      "Tempo de treinamento 26.49 minutos\n"
     ]
    }
   ],
   "source": [
    "from HeterogeneousPooling import *\n",
    "hc = HeterogeneousPooling('hill climbing')\n",
    "hc.fit(X = digits_data, y = digits_target)"
   ]
  },
  {
   "cell_type": "code",
   "execution_count": 18,
   "id": "92b4b10c",
   "metadata": {},
   "outputs": [],
   "source": [
    "(hillClimbing_mean, hillClimbing_std, hillClimbing_inf, hillClimbing_sup) = hc.results()"
   ]
  },
  {
   "cell_type": "markdown",
   "id": "7e21d974",
   "metadata": {},
   "source": [
    "### Heterogeneous Pooling usando Simulated Anneling "
   ]
  },
  {
   "cell_type": "code",
   "execution_count": 19,
   "id": "39463917",
   "metadata": {},
   "outputs": [
    {
     "name": "stdout",
     "output_type": "stream",
     "text": [
      "Treinando Heterogeneous Pooling...\n",
      "Finalizado!\n",
      "Tempo de treinamento 68.20 minutos\n"
     ]
    }
   ],
   "source": [
    "from HeterogeneousPooling import *\n",
    "sa = HeterogeneousPooling('simulated anneling')\n",
    "sa.fit(X = digits_data, y = digits_target)"
   ]
  },
  {
   "cell_type": "code",
   "execution_count": 20,
   "id": "f64e5999",
   "metadata": {},
   "outputs": [],
   "source": [
    "(simulatedAnneling_mean, simulatedAnneling_std, simulatedAnneling_inf, simulatedAnneling_sup) = sa.results()"
   ]
  },
  {
   "cell_type": "markdown",
   "id": "f605dd2a",
   "metadata": {},
   "source": [
    "### Heterogeneous Pooling usando Genetic Algorithm"
   ]
  },
  {
   "cell_type": "code",
   "execution_count": 21,
   "id": "9e51d0a9",
   "metadata": {},
   "outputs": [
    {
     "name": "stdout",
     "output_type": "stream",
     "text": [
      "Treinando Heterogeneous Pooling...\n",
      "Finalizado!\n",
      "Tempo de treinamento 174.15 minutos\n"
     ]
    }
   ],
   "source": [
    "from HeterogeneousPooling import *\n",
    "gn = HeterogeneousPooling('genetic')\n",
    "gn.fit(X = digits_data, y = digits_target)"
   ]
  },
  {
   "cell_type": "code",
   "execution_count": 22,
   "id": "b8cd39b0",
   "metadata": {},
   "outputs": [],
   "source": [
    "(genetic_mean, genetic_std, genetic_inf, genetic_sup) = gn.results()"
   ]
  },
  {
   "cell_type": "markdown",
   "id": "798a24e9",
   "metadata": {},
   "source": [
    "### Tabela com resultados"
   ]
  },
  {
   "cell_type": "code",
   "execution_count": 23,
   "id": "bd2230cd",
   "metadata": {},
   "outputs": [
    {
     "data": {
      "text/html": [
       "<div>\n",
       "<style scoped>\n",
       "    .dataframe tbody tr th:only-of-type {\n",
       "        vertical-align: middle;\n",
       "    }\n",
       "\n",
       "    .dataframe tbody tr th {\n",
       "        vertical-align: top;\n",
       "    }\n",
       "\n",
       "    .dataframe thead th {\n",
       "        text-align: right;\n",
       "    }\n",
       "</style>\n",
       "<table border=\"1\" class=\"dataframe\">\n",
       "  <thead>\n",
       "    <tr style=\"text-align: right;\">\n",
       "      <th></th>\n",
       "      <th>Média</th>\n",
       "      <th>Desvio Padrão</th>\n",
       "      <th>Limite Inferior</th>\n",
       "      <th>Limite Superior</th>\n",
       "    </tr>\n",
       "  </thead>\n",
       "  <tbody>\n",
       "    <tr>\n",
       "      <th>HeterogeneousPooling</th>\n",
       "      <td>0.966805</td>\n",
       "      <td>0.012704</td>\n",
       "      <td>0.962259</td>\n",
       "      <td>0.971351</td>\n",
       "    </tr>\n",
       "    <tr>\n",
       "      <th>HillClimbing</th>\n",
       "      <td>0.967722</td>\n",
       "      <td>0.012479</td>\n",
       "      <td>0.963257</td>\n",
       "      <td>0.972187</td>\n",
       "    </tr>\n",
       "    <tr>\n",
       "      <th>SimulatedAnneling</th>\n",
       "      <td>0.964567</td>\n",
       "      <td>0.019199</td>\n",
       "      <td>0.957696</td>\n",
       "      <td>0.971437</td>\n",
       "    </tr>\n",
       "    <tr>\n",
       "      <th>Genetic</th>\n",
       "      <td>0.959575</td>\n",
       "      <td>0.014679</td>\n",
       "      <td>0.954322</td>\n",
       "      <td>0.964828</td>\n",
       "    </tr>\n",
       "  </tbody>\n",
       "</table>\n",
       "</div>"
      ],
      "text/plain": [
       "                         Média  Desvio Padrão  Limite Inferior  \\\n",
       "HeterogeneousPooling  0.966805       0.012704         0.962259   \n",
       "HillClimbing          0.967722       0.012479         0.963257   \n",
       "SimulatedAnneling     0.964567       0.019199         0.957696   \n",
       "Genetic               0.959575       0.014679         0.954322   \n",
       "\n",
       "                      Limite Superior  \n",
       "HeterogeneousPooling         0.971351  \n",
       "HillClimbing                 0.972187  \n",
       "SimulatedAnneling            0.971437  \n",
       "Genetic                      0.964828  "
      ]
     },
     "execution_count": 23,
     "metadata": {},
     "output_type": "execute_result"
    }
   ],
   "source": [
    "import pandas as pd\n",
    "\n",
    "digist_table = pd.DataFrame(data={'Média':[heterogeneousPooling_mean, hillClimbing_mean, simulatedAnneling_mean, genetic_mean],\n",
    "                                  'Desvio Padrão':[heterogeneousPooling_std, hillClimbing_std, simulatedAnneling_std, genetic_std],\n",
    "                                  'Limite Inferior':[heterogeneousPooling_inf, hillClimbing_inf, simulatedAnneling_inf, genetic_inf],\n",
    "                                  'Limite Superior':[heterogeneousPooling_sup, hillClimbing_sup, simulatedAnneling_sup, genetic_sup]},\n",
    "                            index=['HeterogeneousPooling', 'HillClimbing', 'SimulatedAnnealing', 'Genetic'])\n",
    "digist_table"
   ]
  },
  {
   "cell_type": "markdown",
   "id": "ba7d59ac",
   "metadata": {},
   "source": [
    "### Boxplot com resultados"
   ]
  },
  {
   "cell_type": "code",
   "execution_count": 24,
   "id": "d2f85f70",
   "metadata": {},
   "outputs": [
    {
     "data": {
      "text/plain": [
       "<seaborn.axisgrid.FacetGrid at 0x7efd98247700>"
      ]
     },
     "execution_count": 24,
     "metadata": {},
     "output_type": "execute_result"
    },
    {
     "data": {
      "image/png": "[encoded data removed]",
      "text/plain": [
       "<Figure size 691.2x576 with 1 Axes>"
      ]
     },
     "metadata": {
      "needs_background": "light"
     },
     "output_type": "display_data"
    }
   ],
   "source": [
    "import seaborn as sns\n",
    "import pandas as pd\n",
    "\n",
    "scores = pd.DataFrame(data={'Heterogeneous Pooling': heterogeneousPooling.getScores(),\n",
    "                            'HillClimbing': hc.getScores(),\n",
    "                            'Simulated Annealing': sa.getScores(),\n",
    "                            'Genetic': gn.getScores()})\n",
    "ax = sns.catplot(data=scores, kind=\"box\", height=8, aspect=1.2)\n",
    "ax.set(ylabel='Acurácia')"
   ]
  },
  {
   "cell_type": "markdown",
   "id": "12572085",
   "metadata": {},
   "source": [
    "### Testes de hipótese"
   ]
  },
  {
   "cell_type": "code",
   "execution_count": 25,
   "id": "372c4311",
   "metadata": {},
   "outputs": [
    {
     "data": {
      "text/html": [
       "<style  type=\"text/css\" >\n",
       "#T_29453_row0_col3,#T_29453_row1_col3,#T_29453_row3_col0,#T_29453_row3_col1{\n",
       "            font-weight:  bold;\n",
       "        }</style><table id=\"T_29453_\" ><thead>    <tr>        <th class=\"col_heading level0 col0\" >0</th>        <th class=\"col_heading level0 col1\" >1</th>        <th class=\"col_heading level0 col2\" >2</th>        <th class=\"col_heading level0 col3\" >3</th>    </tr></thead><tbody>\n",
       "                <tr>\n",
       "                                <td id=\"T_29453_row0_col0\" class=\"data row0 col0\" >Heterogeneous</td>\n",
       "                        <td id=\"T_29453_row0_col1\" class=\"data row0 col1\" >0.694724</td>\n",
       "                        <td id=\"T_29453_row0_col2\" class=\"data row0 col2\" >0.473621</td>\n",
       "                        <td id=\"T_29453_row0_col3\" class=\"data row0 col3\" >0.009070</td>\n",
       "            </tr>\n",
       "            <tr>\n",
       "                                <td id=\"T_29453_row1_col0\" class=\"data row1 col0\" >0.837951</td>\n",
       "                        <td id=\"T_29453_row1_col1\" class=\"data row1 col1\" >HillClimbing</td>\n",
       "                        <td id=\"T_29453_row1_col2\" class=\"data row1 col2\" >0.333599</td>\n",
       "                        <td id=\"T_29453_row1_col3\" class=\"data row1 col3\" >0.006534</td>\n",
       "            </tr>\n",
       "            <tr>\n",
       "                                <td id=\"T_29453_row2_col0\" class=\"data row2 col0\" >0.693014</td>\n",
       "                        <td id=\"T_29453_row2_col1\" class=\"data row2 col1\" >0.353350</td>\n",
       "                        <td id=\"T_29453_row2_col2\" class=\"data row2 col2\" >SimulatedAnneling</td>\n",
       "                        <td id=\"T_29453_row2_col3\" class=\"data row2 col3\" >0.155090</td>\n",
       "            </tr>\n",
       "            <tr>\n",
       "                                <td id=\"T_29453_row3_col0\" class=\"data row3 col0\" >0.014988</td>\n",
       "                        <td id=\"T_29453_row3_col1\" class=\"data row3 col1\" >0.011807</td>\n",
       "                        <td id=\"T_29453_row3_col2\" class=\"data row3 col2\" >0.174015</td>\n",
       "                        <td id=\"T_29453_row3_col3\" class=\"data row3 col3\" >Genetic</td>\n",
       "            </tr>\n",
       "    </tbody></table>"
      ],
      "text/plain": [
       "<pandas.io.formats.style.Styler at 0x7efd9844b610>"
      ]
     },
     "execution_count": 25,
     "metadata": {},
     "output_type": "execute_result"
    }
   ],
   "source": [
    "from scipy.stats import ttest_rel, wilcoxon\n",
    "import pandas as pd\n",
    "\n",
    "labels = ['Heterogeneous', 'HillClimbing', 'SimulatedAnnealing', 'Genetic']\n",
    "models = [heterogeneousPooling.getScores(), hc.getScores(), sa.getScores(), gn.getScores()]\n",
    "p_table = pd.DataFrame(index=range(4),columns=range(4))\n",
    "\n",
    "for i in range(4):\n",
    "    for j in range(4):\n",
    "        if i == j:\n",
    "            p_table.loc[i, j] = labels[i]\n",
    "        elif j > i:\n",
    "            _, p = ttest_rel(models[i], models[j])\n",
    "            p_table.loc[i, j] = p\n",
    "        else:\n",
    "            _, p = wilcoxon(models[i], models[j])\n",
    "            p_table.loc[i, j] = p\n",
    "            \n",
    "p_table.style.applymap(lambda v: '' if type(v) == str or v >= 0.05 else 'font-weight: bold').hide_index()"
   ]
  },
  {
   "cell_type": "markdown",
   "id": "25e435d4",
   "metadata": {},
   "source": [
    "# Treinamento dos Classificadores utilizando a base de dados Wine"
   ]
  },
  {
   "cell_type": "code",
   "execution_count": 1,
   "id": "64a0c3d4",
   "metadata": {},
   "outputs": [],
   "source": [
    "from sklearn import datasets\n",
    "(wine_data, wine_target) = datasets.load_wine(return_X_y=True) #importando a base de dados"
   ]
  },
  {
   "cell_type": "markdown",
   "id": "e7abc20b",
   "metadata": {},
   "source": [
    "### Heterogeneous Pooling"
   ]
  },
  {
   "cell_type": "code",
   "execution_count": 2,
   "id": "703b709c",
   "metadata": {},
   "outputs": [
    {
     "name": "stdout",
     "output_type": "stream",
     "text": [
      "Treinando Heterogeneous Pooling...\n",
      "Finalizado!\n",
      "Tempo de treinamento 0.06 minutos\n"
     ]
    }
   ],
   "source": [
    "from HeterogeneousPooling import *\n",
    "heterogeneousPooling = HeterogeneousPooling()\n",
    "heterogeneousPooling.fit(X = wine_data, y = wine_target)"
   ]
  },
  {
   "cell_type": "code",
   "execution_count": 3,
   "id": "e0332150",
   "metadata": {},
   "outputs": [],
   "source": [
    "(heterogeneousPooling_mean, heterogeneousPooling_std, heterogeneousPooling_inf, heterogeneousPooling_sup) = heterogeneousPooling.results()"
   ]
  },
  {
   "cell_type": "markdown",
   "id": "9afe755d",
   "metadata": {},
   "source": [
    "### Heterogeneous Pooling usando Hill Climbing"
   ]
  },
  {
   "cell_type": "code",
   "execution_count": 4,
   "id": "214d852a",
   "metadata": {},
   "outputs": [
    {
     "name": "stdout",
     "output_type": "stream",
     "text": [
      "Treinando Heterogeneous Pooling...\n",
      "Finalizado!\n",
      "Tempo de treinamento 4.03 minutos\n"
     ]
    }
   ],
   "source": [
    "from HeterogeneousPooling import *\n",
    "hc = HeterogeneousPooling('hill climbing')\n",
    "hc.fit(X = wine_data, y = wine_target)"
   ]
  },
  {
   "cell_type": "code",
   "execution_count": 5,
   "id": "64b23161",
   "metadata": {},
   "outputs": [],
   "source": [
    "(hillClimbing_mean, hillClimbing_std, hillClimbing_inf, hillClimbing_sup) = hc.results()"
   ]
  },
  {
   "cell_type": "markdown",
   "id": "790d369f",
   "metadata": {},
   "source": [
    "### Heterogeneous Pooling usando Simulated Anneling "
   ]
  },
  {
   "cell_type": "code",
   "execution_count": 6,
   "id": "91006e55",
   "metadata": {},
   "outputs": [
    {
     "name": "stdout",
     "output_type": "stream",
     "text": [
      "Treinando Heterogeneous Pooling...\n",
      "Finalizado!\n",
      "Tempo de treinamento 3.59 minutos\n"
     ]
    }
   ],
   "source": [
    "from HeterogeneousPooling import *\n",
    "sa = HeterogeneousPooling('simulated anneling')\n",
    "sa.fit(X = wine_data, y = wine_target)"
   ]
  },
  {
   "cell_type": "code",
   "execution_count": 7,
   "id": "f7fc4869",
   "metadata": {},
   "outputs": [],
   "source": [
    "(simulatedAnneling_mean, simulatedAnneling_std, simulatedAnneling_inf, simulatedAnneling_sup) = sa.results()"
   ]
  },
  {
   "cell_type": "markdown",
   "id": "1b9de3d7",
   "metadata": {},
   "source": [
    "### Heterogeneous Pooling usando Genetic Algorithm"
   ]
  },
  {
   "cell_type": "code",
   "execution_count": 8,
   "id": "1e9bf239",
   "metadata": {},
   "outputs": [
    {
     "name": "stdout",
     "output_type": "stream",
     "text": [
      "Treinando Heterogeneous Pooling...\n",
      "Finalizado!\n",
      "Tempo de treinamento 8.59 minutos\n"
     ]
    }
   ],
   "source": [
    "from HeterogeneousPooling import *\n",
    "gn = HeterogeneousPooling('genetic')\n",
    "gn.fit(X = wine_data, y = wine_target)"
   ]
  },
  {
   "cell_type": "code",
   "execution_count": 9,
   "id": "d2662ac3",
   "metadata": {},
   "outputs": [],
   "source": [
    "(genetic_mean, genetic_std, genetic_inf, genetic_sup) = gn.results()"
   ]
  },
  {
   "cell_type": "markdown",
   "id": "cf9e886c",
   "metadata": {},
   "source": [
    "### Tabela com resultados"
   ]
  },
  {
   "cell_type": "code",
   "execution_count": 10,
   "id": "80f8aec3",
   "metadata": {},
   "outputs": [
    {
     "data": {
      "text/html": [
       "<div>\n",
       "<style scoped>\n",
       "    .dataframe tbody tr th:only-of-type {\n",
       "        vertical-align: middle;\n",
       "    }\n",
       "\n",
       "    .dataframe tbody tr th {\n",
       "        vertical-align: top;\n",
       "    }\n",
       "\n",
       "    .dataframe thead th {\n",
       "        text-align: right;\n",
       "    }\n",
       "</style>\n",
       "<table border=\"1\" class=\"dataframe\">\n",
       "  <thead>\n",
       "    <tr style=\"text-align: right;\">\n",
       "      <th></th>\n",
       "      <th>Média</th>\n",
       "      <th>Desvio Padrão</th>\n",
       "      <th>Limite Inferior</th>\n",
       "      <th>Limite Superior</th>\n",
       "    </tr>\n",
       "  </thead>\n",
       "  <tbody>\n",
       "    <tr>\n",
       "      <th>HeterogeneousPooling</th>\n",
       "      <td>0.979412</td>\n",
       "      <td>0.039443</td>\n",
       "      <td>0.965297</td>\n",
       "      <td>0.993526</td>\n",
       "    </tr>\n",
       "    <tr>\n",
       "      <th>HillClimbing</th>\n",
       "      <td>0.977560</td>\n",
       "      <td>0.037057</td>\n",
       "      <td>0.964300</td>\n",
       "      <td>0.990820</td>\n",
       "    </tr>\n",
       "    <tr>\n",
       "      <th>SimulatedAnnealing</th>\n",
       "      <td>0.960566</td>\n",
       "      <td>0.059986</td>\n",
       "      <td>0.939101</td>\n",
       "      <td>0.982032</td>\n",
       "    </tr>\n",
       "    <tr>\n",
       "      <th>Genetic</th>\n",
       "      <td>0.973965</td>\n",
       "      <td>0.053222</td>\n",
       "      <td>0.954920</td>\n",
       "      <td>0.993010</td>\n",
       "    </tr>\n",
       "  </tbody>\n",
       "</table>\n",
       "</div>"
      ],
      "text/plain": [
       "                         Média  Desvio Padrão  Limite Inferior  \\\n",
       "HeterogeneousPooling  0.979412       0.039443         0.965297   \n",
       "HillClimbing          0.977560       0.037057         0.964300   \n",
       "SimulatedAnnealing    0.960566       0.059986         0.939101   \n",
       "Genetic               0.973965       0.053222         0.954920   \n",
       "\n",
       "                      Limite Superior  \n",
       "HeterogeneousPooling         0.993526  \n",
       "HillClimbing                 0.990820  \n",
       "SimulatedAnnealing           0.982032  \n",
       "Genetic                      0.993010  "
      ]
     },
     "execution_count": 10,
     "metadata": {},
     "output_type": "execute_result"
    }
   ],
   "source": [
    "import pandas as pd\n",
    "\n",
    "wine_table = pd.DataFrame(data={'Média':[heterogeneousPooling_mean, hillClimbing_mean, simulatedAnneling_mean, genetic_mean],\n",
    "                                  'Desvio Padrão':[heterogeneousPooling_std, hillClimbing_std, simulatedAnneling_std, genetic_std],\n",
    "                                  'Limite Inferior':[heterogeneousPooling_inf, hillClimbing_inf, simulatedAnneling_inf, genetic_inf],\n",
    "                                  'Limite Superior':[heterogeneousPooling_sup, hillClimbing_sup, simulatedAnneling_sup, genetic_sup]},\n",
    "                            index=['HeterogeneousPooling', 'HillClimbing', 'SimulatedAnnealing', 'Genetic'])\n",
    "wine_table"
   ]
  },
  {
   "cell_type": "markdown",
   "id": "62182267",
   "metadata": {},
   "source": [
    "### Boxplot com resultados"
   ]
  },
  {
   "cell_type": "code",
   "execution_count": 14,
   "id": "d9b21835",
   "metadata": {},
   "outputs": [
    {
     "data": {
      "text/plain": [
       "<seaborn.axisgrid.FacetGrid at 0x7fd56c136b80>"
      ]
     },
     "execution_count": 14,
     "metadata": {},
     "output_type": "execute_result"
    },
    {
     "data": {
      "image/png": "[encoded data removed]",
      "text/plain": [
       "<Figure size 691.2x576 with 1 Axes>"
      ]
     },
     "metadata": {
      "needs_background": "light"
     },
     "output_type": "display_data"
    }
   ],
   "source": [
    "import seaborn as sns\n",
    "import pandas as pd\n",
    "\n",
    "scores = pd.DataFrame(data={'Heterogeneous Pooling': heterogeneousPooling.getScores(),\n",
    "                            'HillClimbing': hc.getScores(),\n",
    "                            'Simulated Annealing': sa.getScores(),\n",
    "                            'Genetic': gn.getScores()})\n",
    "ax = sns.catplot(data=scores, kind=\"box\", height=8, aspect=1.2)\n",
    "ax.set(ylabel='Acurácia')"
   ]
  },
  {
   "cell_type": "markdown",
   "id": "3589b356",
   "metadata": {},
   "source": [
    "### Testes de hipótese"
   ]
  },
  {
   "cell_type": "code",
   "execution_count": 13,
   "id": "c8068997",
   "metadata": {},
   "outputs": [
    {
     "data": {
      "text/html": [
       "<style  type=\"text/css\" >\n",
       "#T_15889_row0_col2,#T_15889_row1_col2,#T_15889_row2_col0,#T_15889_row2_col1{\n",
       "            font-weight:  bold;\n",
       "        }</style><table id=\"T_15889_\" ><thead>    <tr>        <th class=\"col_heading level0 col0\" >0</th>        <th class=\"col_heading level0 col1\" >1</th>        <th class=\"col_heading level0 col2\" >2</th>        <th class=\"col_heading level0 col3\" >3</th>    </tr></thead><tbody>\n",
       "                <tr>\n",
       "                                <td id=\"T_15889_row0_col0\" class=\"data row0 col0\" >Heterogeneous</td>\n",
       "                        <td id=\"T_15889_row0_col1\" class=\"data row0 col1\" >0.572515</td>\n",
       "                        <td id=\"T_15889_row0_col2\" class=\"data row0 col2\" >0.002246</td>\n",
       "                        <td id=\"T_15889_row0_col3\" class=\"data row0 col3\" >0.386841</td>\n",
       "            </tr>\n",
       "            <tr>\n",
       "                                <td id=\"T_15889_row1_col0\" class=\"data row1 col0\" >0.563703</td>\n",
       "                        <td id=\"T_15889_row1_col1\" class=\"data row1 col1\" >HillClimbing</td>\n",
       "                        <td id=\"T_15889_row1_col2\" class=\"data row1 col2\" >0.024949</td>\n",
       "                        <td id=\"T_15889_row1_col3\" class=\"data row1 col3\" >0.585818</td>\n",
       "            </tr>\n",
       "            <tr>\n",
       "                                <td id=\"T_15889_row2_col0\" class=\"data row2 col0\" >0.006459</td>\n",
       "                        <td id=\"T_15889_row2_col1\" class=\"data row2 col1\" >0.018256</td>\n",
       "                        <td id=\"T_15889_row2_col2\" class=\"data row2 col2\" >SimulatedAnnealing</td>\n",
       "                        <td id=\"T_15889_row2_col3\" class=\"data row2 col3\" >0.067084</td>\n",
       "            </tr>\n",
       "            <tr>\n",
       "                                <td id=\"T_15889_row3_col0\" class=\"data row3 col0\" >0.416366</td>\n",
       "                        <td id=\"T_15889_row3_col1\" class=\"data row3 col1\" >0.853923</td>\n",
       "                        <td id=\"T_15889_row3_col2\" class=\"data row3 col2\" >0.080057</td>\n",
       "                        <td id=\"T_15889_row3_col3\" class=\"data row3 col3\" >Genetic</td>\n",
       "            </tr>\n",
       "    </tbody></table>"
      ],
      "text/plain": [
       "<pandas.io.formats.style.Styler at 0x7fd56462a250>"
      ]
     },
     "execution_count": 13,
     "metadata": {},
     "output_type": "execute_result"
    }
   ],
   "source": [
    "from scipy.stats import ttest_rel, wilcoxon\n",
    "import pandas as pd\n",
    "\n",
    "labels = ['Heterogeneous', 'HillClimbing', 'SimulatedAnnealing', 'Genetic']\n",
    "models = [heterogeneousPooling.getScores(), hc.getScores(), sa.getScores(), gn.getScores()]\n",
    "p_table = pd.DataFrame(index=range(4),columns=range(4))\n",
    "\n",
    "for i in range(4):\n",
    "    for j in range(4):\n",
    "        if i == j:\n",
    "            p_table.loc[i, j] = labels[i]\n",
    "        elif j > i:\n",
    "            _, p = ttest_rel(models[i], models[j])\n",
    "            p_table.loc[i, j] = p\n",
    "        else:\n",
    "            _, p = wilcoxon(models[i], models[j])\n",
    "            p_table.loc[i, j] = p\n",
    "            \n",
    "p_table.style.applymap(lambda v: '' if type(v) == str or v >= 0.05 else 'font-weight: bold').hide_index()"
   ]
  },
  {
   "cell_type": "code",
   "execution_count": null,
   "id": "9f86cacd",
   "metadata": {},
   "outputs": [],
   "source": []
  }
 ],
 "metadata": {
  "kernelspec": {
   "display_name": "Python 3",
   "language": "python",
   "name": "python3"
  },
  "language_info": {
   "codemirror_mode": {
    "name": "ipython",
    "version": 3
   },
   "file_extension": ".py",
   "mimetype": "text/x-python",
   "name": "python",
   "nbconvert_exporter": "python",
   "pygments_lexer": "ipython3",
   "version": "3.8.8"
  }
 },
 "nbformat": 4,
 "nbformat_minor": 5
}
